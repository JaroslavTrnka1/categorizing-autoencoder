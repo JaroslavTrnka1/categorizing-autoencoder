{
 "cells": [
  {
   "cell_type": "code",
   "execution_count": 1,
   "metadata": {},
   "outputs": [],
   "source": [
    "import tensorflow as tf\n",
    "import numpy as np\n",
    "import tensorflow.keras.layers as tfl\n",
    "import matplotlib.pyplot as plt\n",
    "from PIL import Image as im"
   ]
  },
  {
   "cell_type": "code",
   "execution_count": 2,
   "metadata": {},
   "outputs": [],
   "source": [
    "(x_train, y_train), (x_test, y_test) = tf.keras.datasets.mnist.load_data()"
   ]
  },
  {
   "cell_type": "code",
   "execution_count": 3,
   "metadata": {},
   "outputs": [
    {
     "name": "stdout",
     "output_type": "stream",
     "text": [
      "(60000, 28, 28)\n"
     ]
    }
   ],
   "source": [
    "print(x_train.shape)"
   ]
  },
  {
   "cell_type": "code",
   "execution_count": 4,
   "metadata": {},
   "outputs": [
    {
     "name": "stdout",
     "output_type": "stream",
     "text": [
      "(60000, 10)\n"
     ]
    }
   ],
   "source": [
    "y_one_hot = tf.one_hot(y_train.astype('float32'), 10)\n",
    "print(y_one_hot.shape)"
   ]
  },
  {
   "cell_type": "code",
   "execution_count": 5,
   "metadata": {},
   "outputs": [],
   "source": [
    "x_train = x_train.astype('float32')/255\n",
    "x_test = x_test.astype('float32')/255"
   ]
  },
  {
   "cell_type": "code",
   "execution_count": 6,
   "metadata": {},
   "outputs": [],
   "source": [
    "def Categorical_encoder(latent_dimensionality):\n",
    "    \n",
    "    x = tfl.Input(shape = (28,28))\n",
    "    x_flatten = tfl.Flatten()(x)\n",
    "    \n",
    "    x_fp = tfl.Dense(600, activation = 'relu')(x_flatten)\n",
    "    x_fp = tfl.Dense(400, activation = 'relu')(x_fp)\n",
    "    x_fp = tfl.Dense(150, activation = 'relu')(x_fp)\n",
    "    logits = tfl.Dense(latent_dimensionality, activation = 'relu')(x_fp)\n",
    "    latent_category = tfl.Softmax()(logits)\n",
    "\n",
    "    \n",
    "    encoder = tf.keras.Model(inputs = x, outputs = latent_category)\n",
    "    \n",
    "    return encoder\n",
    "\n",
    "def Categorical_decoder(latent_dimensionality):\n",
    "    \n",
    "    latent_category = tfl.Input(shape = (latent_dimensionality))\n",
    "    y = tfl.Dense(150, activation = 'relu')(latent_category)\n",
    "    y = tfl.Dense(400, activation = 'relu')(y)\n",
    "    y = tfl.Dense(600, activation = 'relu')(y)\n",
    "    y = tfl.Dense(784, activation = 'sigmoid')(y)\n",
    "    y = tfl.Reshape((28,28))(y)\n",
    "    \n",
    "    decoder = tf.keras.Model(inputs = latent_category, outputs = y)\n",
    "    \n",
    "    return decoder"
   ]
  },
  {
   "cell_type": "code",
   "execution_count": 46,
   "metadata": {},
   "outputs": [],
   "source": [
    "my_encoder = Categorical_encoder(10)\n",
    "my_decoder = Categorical_decoder(10)"
   ]
  },
  {
   "cell_type": "code",
   "execution_count": 47,
   "metadata": {},
   "outputs": [],
   "source": [
    "latent_category = my_encoder(my_encoder.inputs)\n",
    "reconstructions = my_decoder(latent_category)\n",
    "my_autoencoder = tf.keras.Model(inputs = my_encoder.inputs, outputs = [reconstructions, latent_category])"
   ]
  },
  {
   "cell_type": "code",
   "execution_count": 184,
   "metadata": {},
   "outputs": [],
   "source": [
    "def combined_loss():\n",
    "\n",
    "    def loss(y_true,y_pred):\n",
    "\n",
    "        loss_binary_crossentropy =  tf.keras.losses.mean_squared_error(y_true[0], y_pred[0])\n",
    "        latent_categorical_loss = 100 * tf.keras.losses.categorical_crossentropy(y_true[1], y_pred[1])     \n",
    "        sharpening_loss = 1000000/ tf.keras.losses.mean_squared_error(120, y_pred[0])\n",
    "        \n",
    "        return loss_binary_crossentropy + latent_categorical_loss + sharpening_loss\n",
    "   \n",
    "    return loss"
   ]
  },
  {
   "cell_type": "code",
   "execution_count": 120,
   "metadata": {},
   "outputs": [],
   "source": [
    "my_encoder.compile(loss = tf.keras.losses.CategoricalCrossentropy(),  optimizer = 'adam', metrics = ['accuracy'])"
   ]
  },
  {
   "cell_type": "code",
   "execution_count": 121,
   "metadata": {},
   "outputs": [
    {
     "name": "stdout",
     "output_type": "stream",
     "text": [
      "Epoch 1/10\n",
      "600/600 [==============================] - 7s 11ms/step - loss: 0.0918 - accuracy: 0.9803\n",
      "Epoch 2/10\n",
      "600/600 [==============================] - 9s 14ms/step - loss: 0.0361 - accuracy: 0.9917\n",
      "Epoch 3/10\n",
      "600/600 [==============================] - 9s 15ms/step - loss: 0.0185 - accuracy: 0.9953\n",
      "Epoch 4/10\n",
      "600/600 [==============================] - 7s 11ms/step - loss: 0.0093 - accuracy: 0.9975\n",
      "Epoch 5/10\n",
      "600/600 [==============================] - 7s 12ms/step - loss: 0.0090 - accuracy: 0.9977\n",
      "Epoch 6/10\n",
      "600/600 [==============================] - 10s 16ms/step - loss: 0.0103 - accuracy: 0.9975\n",
      "Epoch 7/10\n",
      "600/600 [==============================] - 8s 14ms/step - loss: 0.0043 - accuracy: 0.9988\n",
      "Epoch 8/10\n",
      "600/600 [==============================] - 8s 13ms/step - loss: 0.0063 - accuracy: 0.9985\n",
      "Epoch 9/10\n",
      "600/600 [==============================] - 8s 14ms/step - loss: 0.0083 - accuracy: 0.9980\n",
      "Epoch 10/10\n",
      "600/600 [==============================] - 7s 12ms/step - loss: 0.0061 - accuracy: 0.9984\n"
     ]
    },
    {
     "data": {
      "text/plain": [
       "<keras.callbacks.History at 0x1ffd9151430>"
      ]
     },
     "execution_count": 121,
     "metadata": {},
     "output_type": "execute_result"
    }
   ],
   "source": [
    "my_encoder.fit(x = x_train, y = y_one_hot, epochs = 10, batch_size = 100)"
   ]
  },
  {
   "cell_type": "code",
   "execution_count": 88,
   "metadata": {},
   "outputs": [],
   "source": [
    "my_encoder.trainable = True"
   ]
  },
  {
   "cell_type": "code",
   "execution_count": 78,
   "metadata": {},
   "outputs": [
    {
     "name": "stdout",
     "output_type": "stream",
     "text": [
      "Model: \"model_14\"\n",
      "_________________________________________________________________\n",
      " Layer (type)                Output Shape              Param #   \n",
      "=================================================================\n",
      " input_9 (InputLayer)        [(None, 28, 28)]          0         \n",
      "                                                                 \n",
      " model_12 (Functional)       (None, 10)                773060    \n",
      "                                                                 \n",
      " model_13 (Functional)       (None, 28, 28)            773834    \n",
      "                                                                 \n",
      "=================================================================\n",
      "Total params: 1,546,894\n",
      "Trainable params: 773,834\n",
      "Non-trainable params: 773,060\n",
      "_________________________________________________________________\n"
     ]
    }
   ],
   "source": [
    "my_autoencoder.summary()"
   ]
  },
  {
   "cell_type": "code",
   "execution_count": 185,
   "metadata": {},
   "outputs": [],
   "source": [
    "my_autoencoder.compile(loss = combined_loss(), optimizer = 'adam', metrics = ['accuracy'])"
   ]
  },
  {
   "cell_type": "code",
   "execution_count": 186,
   "metadata": {},
   "outputs": [
    {
     "name": "stdout",
     "output_type": "stream",
     "text": [
      "Epoch 1/10\n",
      "1200/1200 [==============================] - 24s 19ms/step - loss: 1142.0460 - model_13_loss: 1044.1169 - model_12_loss: 97.9288 - model_13_accuracy: 0.1113 - model_12_accuracy: 0.9532\n",
      "Epoch 2/10\n",
      "1200/1200 [==============================] - 24s 20ms/step - loss: 1122.9606 - model_13_loss: 1031.4990 - model_12_loss: 91.4624 - model_13_accuracy: 0.1102 - model_12_accuracy: 0.9510\n",
      "Epoch 3/10\n",
      "1200/1200 [==============================] - 22s 19ms/step - loss: 1129.1388 - model_13_loss: 1037.1813 - model_12_loss: 91.9588 - model_13_accuracy: 0.1117 - model_12_accuracy: 0.9460\n",
      "Epoch 4/10\n",
      "1200/1200 [==============================] - 25s 21ms/step - loss: 1122.2626 - model_13_loss: 1025.2780 - model_12_loss: 96.9844 - model_13_accuracy: 0.1122 - model_12_accuracy: 0.9518\n",
      "Epoch 5/10\n",
      "1200/1200 [==============================] - 24s 20ms/step - loss: 1132.9792 - model_13_loss: 1033.2473 - model_12_loss: 99.7335 - model_13_accuracy: 0.1131 - model_12_accuracy: 0.9482\n",
      "Epoch 6/10\n",
      "1200/1200 [==============================] - 26s 21ms/step - loss: 1130.1550 - model_13_loss: 1031.2334 - model_12_loss: 98.9211 - model_13_accuracy: 0.1142 - model_12_accuracy: 0.9531\n",
      "Epoch 7/10\n",
      "1200/1200 [==============================] - 23s 19ms/step - loss: 1135.4854 - model_13_loss: 1042.9709 - model_12_loss: 92.5138 - model_13_accuracy: 0.1137 - model_12_accuracy: 0.9518\n",
      "Epoch 8/10\n",
      "1200/1200 [==============================] - 26s 21ms/step - loss: 1118.0952 - model_13_loss: 1026.8378 - model_12_loss: 91.2579 - model_13_accuracy: 0.1119 - model_12_accuracy: 0.9510\n",
      "Epoch 9/10\n",
      "1200/1200 [==============================] - 25s 21ms/step - loss: 1113.4626 - model_13_loss: 1024.8499 - model_12_loss: 88.6131 - model_13_accuracy: 0.1137 - model_12_accuracy: 0.9597\n",
      "Epoch 10/10\n",
      "1200/1200 [==============================] - 23s 19ms/step - loss: 1135.3280 - model_13_loss: 1030.3773 - model_12_loss: 104.9516 - model_13_accuracy: 0.1130 - model_12_accuracy: 0.9432\n"
     ]
    },
    {
     "data": {
      "text/plain": [
       "<keras.callbacks.History at 0x1ffb34c3130>"
      ]
     },
     "execution_count": 186,
     "metadata": {},
     "output_type": "execute_result"
    }
   ],
   "source": [
    "my_autoencoder.fit(x = x_train, y = [x_train, y_one_hot], epochs = 10, batch_size = 50)"
   ]
  },
  {
   "cell_type": "code",
   "execution_count": 187,
   "metadata": {},
   "outputs": [],
   "source": [
    "sample = 3"
   ]
  },
  {
   "cell_type": "code",
   "execution_count": 191,
   "metadata": {},
   "outputs": [
    {
     "name": "stdout",
     "output_type": "stream",
     "text": [
      "Sample: 6\n",
      "1/1 [==============================] - 0s 23ms/step\n"
     ]
    },
    {
     "data": {
      "image/png": "[encoded data removed]",
      "text/plain": [
       "<Figure size 432x288 with 2 Axes>"
      ]
     },
     "metadata": {
      "needs_background": "light"
     },
     "output_type": "display_data"
    }
   ],
   "source": [
    "print('Sample: ' + str(sample))\n",
    "task = x_train[sample,:,:].reshape(1,28,28)\n",
    "tip = my_autoencoder.predict(task)\n",
    "tip = tip[0]\n",
    "task_img = im.fromarray(255 * task.reshape(28,28))\n",
    "tip_img = im.fromarray(255 * tip.reshape(28,28))\n",
    "plt.subplot(1, 2, 1)\n",
    "plt.imshow(task_img)\n",
    "plt.subplot(1, 2, 2)\n",
    "plt.imshow(tip_img)\n",
    "plt.show() \n",
    "sample += 1"
   ]
  },
  {
   "cell_type": "code",
   "execution_count": 155,
   "metadata": {},
   "outputs": [
    {
     "name": "stdout",
     "output_type": "stream",
     "text": [
      "1/1 [==============================] - 0s 23ms/step\n",
      "1/1 [==============================] - 0s 24ms/step\n",
      "1/1 [==============================] - 0s 23ms/step\n"
     ]
    },
    {
     "data": {
      "image/png": "[encoded data removed]",
      "text/plain": [
       "<Figure size 432x288 with 1 Axes>"
      ]
     },
     "metadata": {
      "needs_background": "light"
     },
     "output_type": "display_data"
    },
    {
     "name": "stdout",
     "output_type": "stream",
     "text": [
      "1/1 [==============================] - 0s 23ms/step\n"
     ]
    },
    {
     "data": {
      "image/png": "[encoded data removed]",
      "text/plain": [
       "<Figure size 432x288 with 1 Axes>"
      ]
     },
     "metadata": {
      "needs_background": "light"
     },
     "output_type": "display_data"
    },
    {
     "name": "stdout",
     "output_type": "stream",
     "text": [
      "1/1 [==============================] - 0s 22ms/step\n"
     ]
    },
    {
     "data": {
      "image/png": "[encoded data removed]",
      "text/plain": [
       "<Figure size 432x288 with 1 Axes>"
      ]
     },
     "metadata": {
      "needs_background": "light"
     },
     "output_type": "display_data"
    },
    {
     "name": "stdout",
     "output_type": "stream",
     "text": [
      "1/1 [==============================] - 0s 22ms/step\n"
     ]
    },
    {
     "data": {
      "image/png": "[encoded data removed]",
      "text/plain": [
       "<Figure size 432x288 with 1 Axes>"
      ]
     },
     "metadata": {
      "needs_background": "light"
     },
     "output_type": "display_data"
    },
    {
     "name": "stdout",
     "output_type": "stream",
     "text": [
      "1/1 [==============================] - 0s 29ms/step\n"
     ]
    },
    {
     "data": {
      "image/png": "[encoded data removed]",
      "text/plain": [
       "<Figure size 432x288 with 1 Axes>"
      ]
     },
     "metadata": {
      "needs_background": "light"
     },
     "output_type": "display_data"
    },
    {
     "name": "stdout",
     "output_type": "stream",
     "text": [
      "1/1 [==============================] - 0s 22ms/step\n"
     ]
    },
    {
     "data": {
      "image/png": "[encoded data removed]",
      "text/plain": [
       "<Figure size 432x288 with 1 Axes>"
      ]
     },
     "metadata": {
      "needs_background": "light"
     },
     "output_type": "display_data"
    }
   ],
   "source": [
    "task1 = x_train[8,:,:].reshape(1,28,28)\n",
    "task2 = x_train[22,:,:].reshape(1,28,28)\n",
    "my_code1 = my_encoder.predict(task1)\n",
    "my_code2 = my_encoder.predict(task2)\n",
    "\n",
    "steps = 6\n",
    "step = (my_code1 - my_code2) / steps\n",
    "\n",
    "latent_code = my_code1\n",
    "\n",
    "for mutation in range(steps):\n",
    "    my_tip = my_decoder.predict(latent_code)\n",
    "    my_tip_img = im.fromarray(255 * my_tip.reshape(28,28))\n",
    "    plt.imshow(my_tip_img)\n",
    "    plt.show()\n",
    "    latent_code -= step"
   ]
  },
  {
   "cell_type": "code",
   "execution_count": 192,
   "metadata": {},
   "outputs": [
    {
     "name": "stdout",
     "output_type": "stream",
     "text": [
      "1/1 [==============================] - 0s 29ms/step\n",
      "1/1 [==============================] - 0s 24ms/step\n",
      "1/1 [==============================] - 0s 27ms/step\n",
      "1/1 [==============================] - 0s 23ms/step\n",
      "1/1 [==============================] - 0s 23ms/step\n",
      "1/1 [==============================] - 0s 26ms/step\n",
      "1/1 [==============================] - 0s 25ms/step\n",
      "1/1 [==============================] - 0s 30ms/step\n",
      "1/1 [==============================] - 0s 24ms/step\n",
      "1/1 [==============================] - 0s 32ms/step\n"
     ]
    },
    {
     "data": {
      "image/png": "[encoded data removed]",
      "text/plain": [
       "<Figure size 432x288 with 10 Axes>"
      ]
     },
     "metadata": {
      "needs_background": "light"
     },
     "output_type": "display_data"
    }
   ],
   "source": [
    "for i in range (10):\n",
    "    latent_cat = tf.reshape(tf.one_hot(i, 10), (1,-1))\n",
    "    latent_idea = my_decoder.predict(latent_cat)\n",
    "    latent_idea = latent_idea[0]\n",
    "    latent_img = im.fromarray(255 * latent_idea.reshape(28,28))\n",
    "    plt.subplot(4, 3, i + 1)\n",
    "    plt.imshow(latent_img)\n",
    "plt.show()"
   ]
  },
  {
   "cell_type": "code",
   "execution_count": null,
   "metadata": {},
   "outputs": [],
   "source": []
  }
 ],
 "metadata": {
  "kernelspec": {
   "display_name": "Python 3",
   "language": "python",
   "name": "python3"
  },
  "language_info": {
   "codemirror_mode": {
    "name": "ipython",
    "version": 3
   },
   "file_extension": ".py",
   "mimetype": "text/x-python",
   "name": "python",
   "nbconvert_exporter": "python",
   "pygments_lexer": "ipython3",
   "version": "3.8.5"
  }
 },
 "nbformat": 4,
 "nbformat_minor": 4
}
